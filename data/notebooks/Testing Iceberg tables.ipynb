{
 "cells": [
  {
   "cell_type": "markdown",
   "id": "f84459bb-e35a-4fc4-a0f0-0d12b12ae892",
   "metadata": {},
   "source": [
    "# 1. Create schema in HMS"
   ]
  },
  {
   "cell_type": "code",
   "execution_count": 28,
   "id": "a9bf73e8-082c-40fa-b286-e20cd62dc737",
   "metadata": {},
   "outputs": [
    {
     "data": {
      "text/html": [
       "<table>\n",
       "    <tr>\n",
       "    </tr>\n",
       "</table>"
      ],
      "text/plain": [
       "++\n",
       "||\n",
       "++\n",
       "++"
      ]
     },
     "execution_count": 28,
     "metadata": {},
     "output_type": "execute_result"
    }
   ],
   "source": [
    "%%sql\n",
    "CREATE DATABASE nyc100 LOCATION 's3a://warehouse/nyc100';"
   ]
  },
  {
   "cell_type": "markdown",
   "id": "459939fd-079d-407e-8476-3d1dc22d98a2",
   "metadata": {},
   "source": [
    "# 2. Spark example with Python API"
   ]
  },
  {
   "cell_type": "code",
   "execution_count": 29,
   "id": "b2b45785-44ec-4a8a-9581-01eea722434e",
   "metadata": {},
   "outputs": [],
   "source": [
    "TAXIS_TABLE=\"hms.nyc100.taxis\""
   ]
  },
  {
   "cell_type": "markdown",
   "id": "e7cfac1d-271d-481b-ba4b-e087a8f83878",
   "metadata": {},
   "source": [
    "## 2.1 Create Hive table"
   ]
  },
  {
   "cell_type": "code",
   "execution_count": 30,
   "id": "cdf64691-2ae8-4059-ab06-50f947d9c4f6",
   "metadata": {},
   "outputs": [],
   "source": [
    "from pyspark.sql.types import DoubleType, FloatType, LongType, StructType,StructField, StringType\n",
    "\n",
    "schema = StructType([\n",
    "  StructField(\"vendor_id\", LongType(), True),\n",
    "  StructField(\"trip_id\", LongType(), True),\n",
    "  StructField(\"trip_distance\", FloatType(), True),\n",
    "  StructField(\"fare_amount\", DoubleType(), True),\n",
    "  StructField(\"store_and_fwd_flag\", StringType(), True)\n",
    "])\n",
    "\n",
    "df = spark.createDataFrame([], schema)\n",
    "df.writeTo(TAXIS_TABLE).create()"
   ]
  },
  {
   "cell_type": "markdown",
   "id": "cd93feb8-7d13-41ae-b03f-15b1a6561615",
   "metadata": {},
   "source": [
    "## 2.2 Write some data to Hive table"
   ]
  },
  {
   "cell_type": "code",
   "execution_count": 31,
   "id": "97dd969c-3fbb-4628-a17b-a56bc14288a1",
   "metadata": {},
   "outputs": [],
   "source": [
    "schema = spark.table(TAXIS_TABLE).schema\n",
    "data = [\n",
    "    (1, 1000371, 1.8, 15.32, \"N\"),\n",
    "    (2, 1000372, 2.5, 22.15, \"N\"),\n",
    "    (2, 1000373, 0.9, 9.01, \"N\"),\n",
    "    (1, 1000374, 8.4, 42.13, \"Y\")\n",
    "  ]\n",
    "df = spark.createDataFrame(data, schema)\n",
    "df.writeTo(TAXIS_TABLE).append()"
   ]
  },
  {
   "cell_type": "markdown",
   "id": "42f919f5-37e7-4443-b7ee-2543c1c78138",
   "metadata": {},
   "source": [
    "## 2.3 Read Hive table"
   ]
  },
  {
   "cell_type": "code",
   "execution_count": 32,
   "id": "854bd705-4d55-4062-9124-57826c9631a8",
   "metadata": {},
   "outputs": [
    {
     "name": "stdout",
     "output_type": "stream",
     "text": [
      "+---------+-------+-------------+-----------+------------------+\n",
      "|vendor_id|trip_id|trip_distance|fare_amount|store_and_fwd_flag|\n",
      "+---------+-------+-------------+-----------+------------------+\n",
      "|        1|1000371|          1.8|      15.32|                 N|\n",
      "|        2|1000372|          2.5|      22.15|                 N|\n",
      "|        2|1000373|          0.9|       9.01|                 N|\n",
      "|        1|1000374|          8.4|      42.13|                 Y|\n",
      "+---------+-------+-------------+-----------+------------------+\n",
      "\n"
     ]
    }
   ],
   "source": [
    "spark.read.table(TAXIS_TABLE).show()"
   ]
  },
  {
   "cell_type": "markdown",
   "id": "7d6eced9-f6e8-487a-b7ae-9987b69e4c67",
   "metadata": {},
   "source": [
    "# 3. Spark SQL example"
   ]
  },
  {
   "cell_type": "code",
   "execution_count": 34,
   "id": "36a8b721-65cb-401e-9aca-06dfbe534f25",
   "metadata": {},
   "outputs": [
    {
     "data": {
      "text/html": [
       "<table>\n",
       "    <tr>\n",
       "    </tr>\n",
       "</table>"
      ],
      "text/plain": [
       "++\n",
       "||\n",
       "++\n",
       "++"
      ]
     },
     "execution_count": 34,
     "metadata": {},
     "output_type": "execute_result"
    }
   ],
   "source": [
    "%%sql\n",
    "CREATE TABLE hms.nyc100.taxis_new\n",
    "(\n",
    "  vendor_id bigint,\n",
    "  trip_id bigint,\n",
    "  trip_distance float,\n",
    "  fare_amount double,\n",
    "  store_and_fwd_flag string\n",
    ")\n",
    "PARTITIONED BY (vendor_id);"
   ]
  },
  {
   "cell_type": "code",
   "execution_count": 2,
   "id": "3c108d3d-b1d0-4af6-b9bf-bc9d2bfecfa9",
   "metadata": {},
   "outputs": [
    {
     "data": {
      "text/html": [
       "<table>\n",
       "    <tr>\n",
       "    </tr>\n",
       "</table>"
      ],
      "text/plain": [
       "++\n",
       "||\n",
       "++\n",
       "++"
      ]
     },
     "execution_count": 2,
     "metadata": {},
     "output_type": "execute_result"
    }
   ],
   "source": [
    "%%sql\n",
    "INSERT INTO hms.nyc100.taxis_new\n",
    "VALUES (1, 1000371, 1.8, 15.32, 'N'), (2, 1000372, 2.5, 22.15, 'N'), (2, 1000373, 0.9, 9.01, 'N'), (1, 1000374, 8.4, 42.13, 'Y');"
   ]
  },
  {
   "cell_type": "code",
   "execution_count": 3,
   "id": "7d83b01d-07e9-495c-9a44-a2feb454e272",
   "metadata": {},
   "outputs": [
    {
     "data": {
      "text/html": [
       "<table>\n",
       "    <tr>\n",
       "        <th>vendor_id</th>\n",
       "        <th>trip_id</th>\n",
       "        <th>trip_distance</th>\n",
       "        <th>fare_amount</th>\n",
       "        <th>store_and_fwd_flag</th>\n",
       "    </tr>\n",
       "    <tr>\n",
       "        <td>1</td>\n",
       "        <td>1000371</td>\n",
       "        <td>1.7999999523162842</td>\n",
       "        <td>15.32</td>\n",
       "        <td>N</td>\n",
       "    </tr>\n",
       "    <tr>\n",
       "        <td>1</td>\n",
       "        <td>1000374</td>\n",
       "        <td>8.399999618530273</td>\n",
       "        <td>42.13</td>\n",
       "        <td>Y</td>\n",
       "    </tr>\n",
       "    <tr>\n",
       "        <td>2</td>\n",
       "        <td>1000372</td>\n",
       "        <td>2.5</td>\n",
       "        <td>22.15</td>\n",
       "        <td>N</td>\n",
       "    </tr>\n",
       "    <tr>\n",
       "        <td>2</td>\n",
       "        <td>1000373</td>\n",
       "        <td>0.8999999761581421</td>\n",
       "        <td>9.01</td>\n",
       "        <td>N</td>\n",
       "    </tr>\n",
       "    <tr>\n",
       "        <td>1</td>\n",
       "        <td>1000371</td>\n",
       "        <td>1.7999999523162842</td>\n",
       "        <td>15.32</td>\n",
       "        <td>N</td>\n",
       "    </tr>\n",
       "    <tr>\n",
       "        <td>1</td>\n",
       "        <td>1000374</td>\n",
       "        <td>8.399999618530273</td>\n",
       "        <td>42.13</td>\n",
       "        <td>Y</td>\n",
       "    </tr>\n",
       "    <tr>\n",
       "        <td>2</td>\n",
       "        <td>1000372</td>\n",
       "        <td>2.5</td>\n",
       "        <td>22.15</td>\n",
       "        <td>N</td>\n",
       "    </tr>\n",
       "    <tr>\n",
       "        <td>2</td>\n",
       "        <td>1000373</td>\n",
       "        <td>0.8999999761581421</td>\n",
       "        <td>9.01</td>\n",
       "        <td>N</td>\n",
       "    </tr>\n",
       "</table>"
      ],
      "text/plain": [
       "+-----------+---------+--------------------+-------------+--------------------+\n",
       "| vendor_id | trip_id |      trip_distance | fare_amount | store_and_fwd_flag |\n",
       "+-----------+---------+--------------------+-------------+--------------------+\n",
       "|         1 | 1000371 | 1.7999999523162842 |       15.32 |                  N |\n",
       "|         1 | 1000374 |  8.399999618530273 |       42.13 |                  Y |\n",
       "|         2 | 1000372 |                2.5 |       22.15 |                  N |\n",
       "|         2 | 1000373 | 0.8999999761581421 |        9.01 |                  N |\n",
       "|         1 | 1000371 | 1.7999999523162842 |       15.32 |                  N |\n",
       "|         1 | 1000374 |  8.399999618530273 |       42.13 |                  Y |\n",
       "|         2 | 1000372 |                2.5 |       22.15 |                  N |\n",
       "|         2 | 1000373 | 0.8999999761581421 |        9.01 |                  N |\n",
       "+-----------+---------+--------------------+-------------+--------------------+"
      ]
     },
     "execution_count": 3,
     "metadata": {},
     "output_type": "execute_result"
    }
   ],
   "source": [
    "%%sql\n",
    "SELECT * FROM hms.nyc100.taxis_new;"
   ]
  }
 ],
 "metadata": {
  "kernelspec": {
   "display_name": "Python 3 (ipykernel)",
   "language": "python",
   "name": "python3"
  },
  "language_info": {
   "codemirror_mode": {
    "name": "ipython",
    "version": 3
   },
   "file_extension": ".py",
   "mimetype": "text/x-python",
   "name": "python",
   "nbconvert_exporter": "python",
   "pygments_lexer": "ipython3",
   "version": "3.9.17"
  }
 },
 "nbformat": 4,
 "nbformat_minor": 5
}
