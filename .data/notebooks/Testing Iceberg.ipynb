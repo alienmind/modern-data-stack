{
 "cells": [
  {
   "cell_type": "markdown",
   "id": "684cfab5-9d4a-47b0-97ae-6f94f50bbd4e",
   "metadata": {},
   "source": [
    "## Create an Iceberg table"
   ]
  },
  {
   "cell_type": "code",
   "execution_count": 1,
   "id": "4e21ca14-4da5-4542-8c45-7bc516fd2190",
   "metadata": {},
   "outputs": [
    {
     "name": "stderr",
     "output_type": "stream",
     "text": [
      "SLF4J: Failed to load class \"org.slf4j.impl.StaticLoggerBinder\".    (0 + 8) / 8]\n",
      "SLF4J: Defaulting to no-operation (NOP) logger implementation\n",
      "SLF4J: See http://www.slf4j.org/codes.html#StaticLoggerBinder for further details.\n",
      "                                                                                \r"
     ]
    }
   ],
   "source": [
    "from pyspark.sql.types import DoubleType, FloatType, LongType, StructType,StructField, StringType\n",
    "\n",
    "schema = StructType([\n",
    "  StructField(\"vendor_id\", LongType(), True),\n",
    "  StructField(\"trip_id\", LongType(), True),\n",
    "  StructField(\"trip_distance\", FloatType(), True),\n",
    "  StructField(\"fare_amount\", DoubleType(), True),\n",
    "  StructField(\"store_and_fwd_flag\", StringType(), True)\n",
    "])\n",
    "\n",
    "df = spark.createDataFrame([], schema)\n",
    "df.writeTo(\"iceberg.nyc.taxis\").create()"
   ]
  },
  {
   "cell_type": "markdown",
   "id": "c4323942-5f4c-4236-94d2-984ef814b2ea",
   "metadata": {},
   "source": [
    "## Write to a table"
   ]
  },
  {
   "cell_type": "code",
   "execution_count": 2,
   "id": "4fd70940-5e98-44d5-a066-0ed24039998d",
   "metadata": {},
   "outputs": [],
   "source": [
    "schema = spark.table(\"iceberg.nyc.taxis\").schema\n",
    "data = [\n",
    "    (1, 1000371, 1.8, 15.32, \"N\"),\n",
    "    (2, 1000372, 2.5, 22.15, \"N\"),\n",
    "    (2, 1000373, 0.9, 9.01, \"N\"),\n",
    "    (1, 1000374, 8.4, 42.13, \"Y\")\n",
    "  ]\n",
    "df = spark.createDataFrame(data, schema)\n",
    "df.writeTo(\"iceberg.nyc.taxis\").append()"
   ]
  },
  {
   "cell_type": "markdown",
   "id": "61565f1a-c78a-4f98-945e-3033c4a42bb7",
   "metadata": {},
   "source": [
    "## Read a table"
   ]
  },
  {
   "cell_type": "code",
   "execution_count": 3,
   "id": "1c8b189b-d35c-40ff-90e5-0316dc0e0ba1",
   "metadata": {},
   "outputs": [
    {
     "name": "stdout",
     "output_type": "stream",
     "text": [
      "+---------+-------+-------------+-----------+------------------+\n",
      "|vendor_id|trip_id|trip_distance|fare_amount|store_and_fwd_flag|\n",
      "+---------+-------+-------------+-----------+------------------+\n",
      "|        1|1000371|          1.8|      15.32|                 N|\n",
      "|        2|1000372|          2.5|      22.15|                 N|\n",
      "|        2|1000373|          0.9|       9.01|                 N|\n",
      "|        1|1000374|          8.4|      42.13|                 Y|\n",
      "+---------+-------+-------------+-----------+------------------+\n",
      "\n"
     ]
    }
   ],
   "source": [
    "df = spark.table(\"iceberg.nyc.taxis\").show()"
   ]
  }
 ],
 "metadata": {
  "kernelspec": {
   "display_name": "Python 3 (ipykernel)",
   "language": "python",
   "name": "python3"
  },
  "language_info": {
   "codemirror_mode": {
    "name": "ipython",
    "version": 3
   },
   "file_extension": ".py",
   "mimetype": "text/x-python",
   "name": "python",
   "nbconvert_exporter": "python",
   "pygments_lexer": "ipython3",
   "version": "3.9.17"
  }
 },
 "nbformat": 4,
 "nbformat_minor": 5
}
